{
 "cells": [
  {
   "cell_type": "code",
   "execution_count": 5,
   "metadata": {},
   "outputs": [
    {
     "name": "stdout",
     "output_type": "stream",
     "text": [
      "robert\n",
      "18\n",
      "我的名字是:robert\n",
      "我的age是18\n",
      "====================\n",
      "徐國堂\n",
      "38\n",
      "我的名字是:徐國堂\n",
      "我的age是38\n"
     ]
    }
   ],
   "source": [
    "class Person(object):\n",
    "    #自訂的init,建立內建的attribute\n",
    "    def __init__(self,n:str,a:int): #type hint\n",
    "        self.name = n #attribute\n",
    "        self.age = a #attribute\n",
    "\n",
    "    #自訂實體被print()時的輸出\n",
    "    def __repr__(self)->str:\n",
    "        return f'我的名字是:{self.name}\\n我的age是{self.age}'\n",
    "\n",
    "    \n",
    "\n",
    "    #初始化,initial\n",
    "p1 = Person(n=\"robert\",a=18)\n",
    "print(p1.name)\n",
    "print(p1.age)\n",
    "print(p1)\n",
    "\n",
    "print(\"====================\")\n",
    "\n",
    "p2 = Person(n=\"徐國堂\",a=38)\n",
    "print(p2.name)\n",
    "print(p2.age)\n",
    "print(p2)"
   ]
  },
  {
   "cell_type": "code",
   "execution_count": 6,
   "metadata": {},
   "outputs": [
    {
     "name": "stdout",
     "output_type": "stream",
     "text": [
      "不可以改名為abc\n",
      "robert\n",
      "====================\n",
      "徐國堂\n"
     ]
    }
   ],
   "source": [
    "class Person(object):\n",
    "    #自訂的init,建立內建的attribute\n",
    "    def __init__(self,name:str,age:int): #type hint\n",
    "        self.__name = name #attribute\n",
    "        self.age = age #attribute\n",
    "\n",
    "    #自訂實體被print()時的輸出\n",
    "    def __repr__(self)->str:\n",
    "        return f'我的名字是:{self.name}\\n我的age是{self.age}'\n",
    "    \n",
    "    @property\n",
    "    def name(self)->str:\n",
    "        return self.__name\n",
    "    \n",
    "    @name.setter\n",
    "    def name(self,n):\n",
    "        print(f\"不可以改名為{n}\")\n",
    "#初始化,initial\n",
    "p1 = Person(name=\"robert\",age=18)\n",
    "p1.name = \"abc\"\n",
    "print(p1.name)\n",
    "\n",
    "\n",
    "\n",
    "print(\"====================\")\n",
    "\n",
    "p2 = Person(name=\"徐國堂\",age=38)\n",
    "print(p2.name)"
   ]
  },
  {
   "cell_type": "code",
   "execution_count": 9,
   "metadata": {},
   "outputs": [
    {
     "name": "stdout",
     "output_type": "stream",
     "text": [
      "不可以改名為abc\n",
      "不合法的值\n",
      "robert\n",
      "28\n"
     ]
    }
   ],
   "source": [
    "class Person(object):\n",
    "    #自訂的init,建立內建的attribute\n",
    "    def __init__(self,name:str,age:int): #type hint\n",
    "        self.__name = name #private attribute\n",
    "        self.__age = age #private attribute\n",
    "\n",
    "    #自訂實體被print()時的輸出\n",
    "    def __repr__(self)->str:\n",
    "        return f'我的名字是:{self.name}\\n我的age是{self.age}'\n",
    "    \n",
    "    @property\n",
    "    def name(self)->str:\n",
    "        return self.__name\n",
    "    \n",
    "    @name.setter\n",
    "    def name(self,n):\n",
    "        print(f\"不可以改名為{n}\")\n",
    "\n",
    "    @property\n",
    "    def age(self)->int: #getter\n",
    "        return self.__age\n",
    "    \n",
    "    @age.setter\n",
    "    def age(self,value): #setter\n",
    "        if value > 100 or value < 0:\n",
    "            print(\"不合法的值\")\n",
    "        else:\n",
    "            self.__age = value\n",
    "    \n",
    "\n",
    "\n",
    "\n",
    "p1 = Person(name=\"robert\",age=18)\n",
    "p1.name = \"abc\"\n",
    "p1.age = 200\n",
    "p1.age = 28\n",
    "print(p1.name)\n",
    "print(p1.age)"
   ]
  }
 ],
 "metadata": {
  "kernelspec": {
   "display_name": "myenv",
   "language": "python",
   "name": "python3"
  },
  "language_info": {
   "codemirror_mode": {
    "name": "ipython",
    "version": 3
   },
   "file_extension": ".py",
   "mimetype": "text/x-python",
   "name": "python",
   "nbconvert_exporter": "python",
   "pygments_lexer": "ipython3",
   "version": "3.11.10"
  }
 },
 "nbformat": 4,
 "nbformat_minor": 2
}

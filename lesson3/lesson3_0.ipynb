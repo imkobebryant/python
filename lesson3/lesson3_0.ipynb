{
 "cells": [
  {
   "cell_type": "code",
   "execution_count": 1,
   "metadata": {},
   "outputs": [
    {
     "name": "stdout",
     "output_type": "stream",
     "text": [
      "[['name', 'age', 'city'], ['John', '23', 'New York'], ['Jane', '29', 'Los Angeles'], ['Doe', '25', 'Chicago'], ['Anna', '22', 'Houston']]\n"
     ]
    }
   ],
   "source": [
    "import csv\n",
    "\n",
    "with open( 'student.csv', encoding='utf-8') as file1:\n",
    "    \n",
    "    reader = csv.reader(file1)\n",
    "    print(list(reader))"
   ]
  },
  {
   "cell_type": "code",
   "execution_count": 2,
   "metadata": {},
   "outputs": [
    {
     "name": "stdout",
     "output_type": "stream",
     "text": [
      "<csv.DictReader object at 0x000002CFF726A550>\n",
      "{'name': 'John', 'age': '23', 'city': 'New York'}\n",
      "{'name': 'Jane', 'age': '29', 'city': 'Los Angeles'}\n",
      "{'name': 'Doe', 'age': '25', 'city': 'Chicago'}\n",
      "{'name': 'Anna', 'age': '22', 'city': 'Houston'}\n"
     ]
    }
   ],
   "source": [
    "import csv\n",
    "\n",
    "with open( 'student.csv', encoding='utf-8',newline='') as file:    \n",
    "    reader_dict = csv.DictReader(file)\n",
    "    print(reader_dict)\n",
    "    for item in reader_dict:\n",
    "        print(item)"
   ]
  },
  {
   "cell_type": "code",
   "execution_count": 21,
   "metadata": {},
   "outputs": [
    {
     "name": "stdout",
     "output_type": "stream",
     "text": [
      "[{'name': 'John', 'age': '23', 'city': 'New York'}, {'name': 'Jane', 'age': '29', 'city': 'Los Angeles'}, {'name': 'Doe', 'age': '25', 'city': 'Chicago'}, {'name': 'Anna', 'age': '22', 'city': 'Houston'}]\n",
      "{'name': 'John', 'age': '23', 'city': 'New York'}\n",
      "{'name': 'Jane', 'age': '29', 'city': 'Los Angeles'}\n",
      "{'name': 'Doe', 'age': '25', 'city': 'Chicago'}\n",
      "{'name': 'Anna', 'age': '22', 'city': 'Houston'}\n",
      "{'name': 'Jane', 'age': '29', 'city': 'Los Angeles'}\n",
      "[{'name': 'Jane', 'age': '29', 'city': 'Los Angeles'}]\n"
     ]
    }
   ],
   "source": [
    "import csv\n",
    "\n",
    "with open( 'student.csv', encoding='utf-8',newline='') as file:    \n",
    "    reader_dict = list(csv.DictReader(file))\n",
    "    print(reader_dict)\n",
    "    for item in reader_dict:\n",
    "        print(item)\n",
    "    \n",
    "    new_list = []\n",
    "    for item in reader_dict:\n",
    "        if int(item['age'])>25:\n",
    "            print(item)\n",
    "            new_list.append(item)\n",
    "\n",
    "    print(new_list)\n",
    "\n",
    "with open('filtered_data.csv',mode='w',encoding='utf-8',newline='') as f:\n",
    "    fieldnames = ['name', 'age','city']\n",
    "    dict_writer = csv.DictWriter(f,fieldnames=fieldnames)\n",
    "    dict_writer.writeheader()\n",
    "    for item in new_list:\n",
    "        dict_writer.writerow(item)\n",
    "\n"
   ]
  }
 ],
 "metadata": {
  "kernelspec": {
   "display_name": "myenv",
   "language": "python",
   "name": "python3"
  },
  "language_info": {
   "codemirror_mode": {
    "name": "ipython",
    "version": 3
   },
   "file_extension": ".py",
   "mimetype": "text/x-python",
   "name": "python",
   "nbconvert_exporter": "python",
   "pygments_lexer": "ipython3",
   "version": "3.11.10"
  }
 },
 "nbformat": 4,
 "nbformat_minor": 2
}

{
 "cells": [
  {
   "cell_type": "markdown",
   "metadata": {},
   "source": [
    "### 使用 Python 內建的 csv 模組讀取文件"
   ]
  },
  {
   "cell_type": "code",
   "execution_count": 4,
   "metadata": {},
   "outputs": [
    {
     "name": "stdout",
     "output_type": "stream",
     "text": [
      "<class '_csv.reader'>\n",
      "['name', 'age', 'city']\n",
      "['John', '23', 'New York']\n",
      "['Jane', '29', 'Los Angeles']\n",
      "['Doe', '25', 'Chicago']\n",
      "['Anna', '22', 'Houston']\n"
     ]
    }
   ],
   "source": [
    "import csv\n",
    "with open ('student.csv',encoding='utf-8') as file:\n",
    "    csvReader=csv.reader(file)\n",
    "    print(type(csvReader))\n",
    "    for row in csvReader:\n",
    "        print(row)"
   ]
  },
  {
   "cell_type": "markdown",
   "metadata": {},
   "source": [
    "### 篩選內容:年齡大於25的人"
   ]
  },
  {
   "cell_type": "code",
   "execution_count": 9,
   "metadata": {},
   "outputs": [
    {
     "name": "stdout",
     "output_type": "stream",
     "text": [
      "['name', 'age', 'city']\n"
     ]
    }
   ],
   "source": [
    "import csv\n",
    "with open ('student.csv',encoding='utf-8') as file:\n",
    "    csvReader=csv.reader(file)\n",
    "    header=next(csvReader)\n",
    "    print(header)\n",
    "    if row in csvReader:\n",
    "        if int(row[1])>25:\n",
    "            print (row)"
   ]
  },
  {
   "cell_type": "markdown",
   "metadata": {},
   "source": [
    "### 輸出篩選後的結果儲存至新 CSV 文件(filtered_data.csv)"
   ]
  },
  {
   "cell_type": "code",
   "execution_count": 7,
   "metadata": {},
   "outputs": [
    {
     "ename": "SyntaxError",
     "evalue": "invalid syntax (570089850.py, line 13)",
     "output_type": "error",
     "traceback": [
      "\u001b[1;36m  Cell \u001b[1;32mIn[7], line 13\u001b[1;36m\u001b[0m\n\u001b[1;33m    csvReader.(header)\u001b[0m\n\u001b[1;37m              ^\u001b[0m\n\u001b[1;31mSyntaxError\u001b[0m\u001b[1;31m:\u001b[0m invalid syntax\n"
     ]
    }
   ],
   "source": [
    "import csv\n",
    "with open ('student.csv',encoding='utf-8') as file:\n",
    "    csvReader=csv.reader(file)\n",
    "    header=next(csvReader)\n",
    "    print(header)\n",
    "    if row in csvReader:\n",
    "        if int(row[1])>25:\n",
    "            print (row)\n",
    "\n",
    "with open ('filtered_date.csv',mode='w',newline='',encoding='utf-8') as new_file:\n",
    "    csvReader=csvReader(new_file)\n",
    "\n",
    "    csvReader.(header)\n",
    "    "
   ]
  }
 ],
 "metadata": {
  "kernelspec": {
   "display_name": "myenv",
   "language": "python",
   "name": "python3"
  },
  "language_info": {
   "codemirror_mode": {
    "name": "ipython",
    "version": 3
   },
   "file_extension": ".py",
   "mimetype": "text/x-python",
   "name": "python",
   "nbconvert_exporter": "python",
   "pygments_lexer": "ipython3",
   "version": "3.11.10"
  }
 },
 "nbformat": 4,
 "nbformat_minor": 2
}

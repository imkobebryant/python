{
 "cells": [
  {
   "cell_type": "markdown",
   "metadata": {},
   "source": [
    "### 使用 Python 內建的 csv 模組讀取文件"
   ]
  },
  {
   "cell_type": "code",
   "execution_count": 4,
   "metadata": {},
   "outputs": [
    {
     "name": "stdout",
     "output_type": "stream",
     "text": [
      "<class '_csv.reader'>\n",
      "['name', 'age', 'city']\n",
      "['John', '23', 'New York']\n",
      "['Jane', '29', 'Los Angeles']\n",
      "['Doe', '25', 'Chicago']\n",
      "['Anna', '22', 'Houston']\n"
     ]
    }
   ],
   "source": [
    "import csv\n",
    "with open ('student.csv',encoding='utf-8') as file:\n",
    "    csvReader=csv.reader(file)\n",
    "    print(type(csvReader))\n",
    "    for row in csvReader:\n",
    "        print(row)"
   ]
  },
  {
   "cell_type": "markdown",
   "metadata": {},
   "source": [
    "### 篩選內容:年齡大於25的人"
   ]
  },
  {
   "cell_type": "code",
   "execution_count": 1,
   "metadata": {},
   "outputs": [
    {
     "name": "stdout",
     "output_type": "stream",
     "text": [
      "['name', 'age', 'city']\n",
      "['Jane', '29', 'Los Angeles']\n"
     ]
    }
   ],
   "source": [
    "import csv\n",
    "with open ('student.csv',encoding='utf-8') as file:\n",
    "    csvReader=csv.reader(file)\n",
    "    header=next(csvReader)\n",
    "    print(header)\n",
    "    for row in csvReader:\n",
    "        if int(row[1])>25:\n",
    "            print (row)"
   ]
  },
  {
   "cell_type": "markdown",
   "metadata": {},
   "source": [
    "### 輸出篩選後的結果儲存至新 CSV 文件(filtered_data.csv)"
   ]
  },
  {
   "cell_type": "code",
   "execution_count": 5,
   "metadata": {},
   "outputs": [],
   "source": [
    "import csv\n",
    "with open ('student.csv',encoding='utf-8') as file:\n",
    "    csvReader=csv.reader(file)\n",
    "    header=next(csvReader)\n",
    "\n",
    "    with open ('filtered_date.csv',mode='w',newline='',encoding='utf-8') as new_file:\n",
    "        csvReader1=csv.writer(new_file)\n",
    "    \n",
    "        csvReader1.writerow(header)\n",
    "   \n",
    "        for row in csvReader:\n",
    "            if int(row[1])>25:\n",
    "                csvReader1.writerow(row)\n",
    "\n",
    "\n",
    "    "
   ]
  }
 ],
 "metadata": {
  "kernelspec": {
   "display_name": "myenv",
   "language": "python",
   "name": "python3"
  },
  "language_info": {
   "codemirror_mode": {
    "name": "ipython",
    "version": 3
   },
   "file_extension": ".py",
   "mimetype": "text/x-python",
   "name": "python",
   "nbconvert_exporter": "python",
   "pygments_lexer": "ipython3",
   "version": "3.11.10"
  }
 },
 "nbformat": 4,
 "nbformat_minor": 2
}

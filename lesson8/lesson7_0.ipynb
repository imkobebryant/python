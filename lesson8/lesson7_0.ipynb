{
 "cells": [
  {
   "cell_type": "code",
   "execution_count": 8,
   "metadata": {},
   "outputs": [],
   "source": [
    "import sqlite3\n",
    "import requests\n",
    "\n",
    "# 下載 JSON 資料\n",
    "url = \"https://data.moenv.gov.tw/api/v2/aqx_p_432?api_key=e8dd42e6-9b8b-43f8-991e-b3dee723a52d&limit=1000&sort=ImportDate%20desc&format=JSON\"\n",
    "response = requests.get(url)\n",
    "data = response.json()['records']\n",
    "\n",
    "# 連接到 SQLite 資料庫\n",
    "conn = sqlite3.connect(\"D:\\python視窗設計\\GitHub\\python_視窗設計\\lesson7\\AQI.db\")\n",
    "cursor = conn.cursor()\n",
    "\n",
    "# 創建資料表（如果尚未存在）\n",
    "cursor.execute('''\n",
    "    CREATE TABLE IF NOT EXISTS records (\n",
    "        id INTEGER PRIMARY KEY AUTOINCREMENT,\n",
    "        sitename TEXT,\n",
    "        county TEXT,\n",
    "        aqi INTEGER,\n",
    "        status TEXT,\n",
    "        pm25 NUMERIC,\n",
    "        date TEXT,\n",
    "        lat NUMERIC,\n",
    "        lon NUMERIC,\n",
    "        UNIQUE(date, sitename)\n",
    "    )\n",
    "''')\n",
    "\n",
    "# 插入資料，使用 INSERT OR REPLACE 確保不重複\n",
    "for record in data:\n",
    "    cursor.execute('''\n",
    "        INSERT OR REPLACE INTO records (sitename, county, aqi, status, pm25, date, lat, lon)\n",
    "        VALUES (?, ?, ?, ?, ?, ?, ?, ?)\n",
    "    ''', (\n",
    "        record['sitename'],\n",
    "        record['county'],\n",
    "        int(record['aqi']) if record['aqi'].isdigit() else None,\n",
    "        record['status'],\n",
    "        float(record['pm2.5']) if record['pm2.5'] else None,\n",
    "        record['publishtime'],\n",
    "        float(record['latitude']) if record['latitude'] else None,\n",
    "        float(record['longitude']) if record['longitude'] else None\n",
    "    ))\n",
    "\n",
    "# 提交更改並關閉連接\n",
    "conn.commit()\n",
    "conn.close()"
   ]
  }
 ],
 "metadata": {
  "kernelspec": {
   "display_name": "myenv",
   "language": "python",
   "name": "python3"
  },
  "language_info": {
   "codemirror_mode": {
    "name": "ipython",
    "version": 3
   },
   "file_extension": ".py",
   "mimetype": "text/x-python",
   "name": "python",
   "nbconvert_exporter": "python",
   "pygments_lexer": "ipython3",
   "version": "3.11.10"
  }
 },
 "nbformat": 4,
 "nbformat_minor": 2
}

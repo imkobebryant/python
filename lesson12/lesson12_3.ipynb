{
 "cells": [
  {
   "cell_type": "code",
   "execution_count": null,
   "metadata": {},
   "outputs": [],
   "source": [
    "from dotenv import load_dotenv\n",
    "import os\n",
    "import requests\n",
    "load_dotenv()\n",
    "def get_aqi_str(aqi_key:str)->str:\n",
    "    url = f'https://data.moenv.gov.tw/api/v2/aqx_p_488?api_key={aqi_key}&limit=1000&sort=datacreationdate desc&format=JSON'\n",
    "    try:\n",
    "        r = requests.get(url)\n",
    "        r.raise_for_status()\n",
    "    except Exception as e:\n",
    "        print(f\"發生錯誤:{e}\")\n",
    "    return r.text\n",
    "\n",
    "aqi_data:str = get_aqi_str(aqi_key=os.environ['AQI_KEY'])"
   ]
  },
  {
   "cell_type": "code",
   "execution_count": null,
   "metadata": {},
   "outputs": [],
   "source": [
    "from pydantic import BaseModel,Field,field_validator,field_serializer\n",
    "from datetime import datetime\n",
    "\n",
    "class Record(BaseModel):\n",
    "    站點: str = Field(alias='sitename')\n",
    "    縣市: str = Field(alias='county')\n",
    "    日期: datetime = Field(alias='datacreationdate')\n",
    "    aqi: float | None \n",
    "    狀態: str = Field(alias='status')\n",
    "    pm25: float | None = Field(alias='pm2.5')\n",
    "    緯度: float = Field(alias='latitude')\n",
    "    經度: float = Field(alias='longitude')\n",
    "\n",
    "    @field_validator(\"pm25\",\"aqi\",mode='before')\n",
    "    @classmethod\n",
    "    def pm25_for_empty_string(cls,v:str)->float:\n",
    "        if v == '':\n",
    "            return None\n",
    "        else:\n",
    "            return float(v)\n",
    "    \n",
    "    @field_serializer('緯度','經度')\n",
    "    def four_digits(self,value:float)->float:\n",
    "        return round(value,ndigits=4)\n",
    "    \n",
    "    @field_serializer('日期')\n",
    "    def datetime_to_string(self,date:datetime) -> str:\n",
    "        return date.strftime('%Y:%m:%d %H:%M:00')\n",
    "\n",
    "\n",
    "class AQI(BaseModel):\n",
    "    records: list[Record]\n",
    "\n",
    "aqi = AQI.model_validate_json(aqi_data)"
   ]
  },
  {
   "cell_type": "code",
   "execution_count": null,
   "metadata": {},
   "outputs": [],
   "source": [
    "from pydantic import BaseModel,Field,field_validator\n",
    "\n",
    "class Record(BaseModel):\n",
    "    站點: str = Field(alias='sitename')\n",
    "    縣市: str = Field(alias='county')\n",
    "    aqi: float | None \n",
    "    狀態: str = Field(alias='status')\n",
    "    pm25: float | None = Field(alias='pm2.5')\n",
    "    緯度: float = Field(alias='latitude')\n",
    "    經度: float = Field(alias='longitude')\n",
    "\n",
    "    @field_validator(\"pm25\",\"aqi\",mode='before')\n",
    "    @classmethod\n",
    "    def pm25_for_empty_string(cls,v:str)->float:\n",
    "        if v == '':\n",
    "            return None\n",
    "        else:\n",
    "            return float(v)\n",
    "\n",
    "\n",
    "class AQI(BaseModel):\n",
    "    records: list[Record]\n",
    "\n",
    "aqi = AQI.model_validate_json(aqi_data)"
   ]
  },
  {
   "cell_type": "code",
   "execution_count": 1,
   "metadata": {},
   "outputs": [
    {
     "ename": "NameError",
     "evalue": "name 'aqi' is not defined",
     "output_type": "error",
     "traceback": [
      "\u001b[1;31m---------------------------------------------------------------------------\u001b[0m",
      "\u001b[1;31mNameError\u001b[0m                                 Traceback (most recent call last)",
      "Cell \u001b[1;32mIn[1], line 1\u001b[0m\n\u001b[1;32m----> 1\u001b[0m \u001b[43maqi\u001b[49m\u001b[38;5;241m.\u001b[39mmodel_dump()[\u001b[38;5;124m'\u001b[39m\u001b[38;5;124mrecords\u001b[39m\u001b[38;5;124m'\u001b[39m]\n",
      "\u001b[1;31mNameError\u001b[0m: name 'aqi' is not defined"
     ]
    }
   ],
   "source": [
    "aqi_data:list[dict] = aqi.model_dump()['records']\n",
    "for aqi_item in aqi_data:\n",
    "    print(aqi_item)"
   ]
  }
 ],
 "metadata": {
  "kernelspec": {
   "display_name": "myenv",
   "language": "python",
   "name": "python3"
  },
  "language_info": {
   "codemirror_mode": {
    "name": "ipython",
    "version": 3
   },
   "file_extension": ".py",
   "mimetype": "text/x-python",
   "name": "python",
   "nbconvert_exporter": "python",
   "pygments_lexer": "ipython3",
   "version": "3.11.10"
  }
 },
 "nbformat": 4,
 "nbformat_minor": 2
}

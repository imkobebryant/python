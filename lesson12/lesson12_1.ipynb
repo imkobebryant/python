{
 "cells": [
  {
   "cell_type": "code",
   "execution_count": 2,
   "metadata": {},
   "outputs": [
    {
     "ename": "KeyError",
     "evalue": "'AQI_KEY'",
     "output_type": "error",
     "traceback": [
      "\u001b[1;31m---------------------------------------------------------------------------\u001b[0m",
      "\u001b[1;31mKeyError\u001b[0m                                  Traceback (most recent call last)",
      "Cell \u001b[1;32mIn[2], line 14\u001b[0m\n\u001b[0;32m     11\u001b[0m         \u001b[38;5;28mprint\u001b[39m(\u001b[38;5;124mf\u001b[39m\u001b[38;5;124m\"\u001b[39m\u001b[38;5;124m發生錯誤:\u001b[39m\u001b[38;5;132;01m{\u001b[39;00me\u001b[38;5;132;01m}\u001b[39;00m\u001b[38;5;124m\"\u001b[39m)\n\u001b[0;32m     12\u001b[0m     \u001b[38;5;28;01mreturn\u001b[39;00m r\u001b[38;5;241m.\u001b[39mtext\n\u001b[1;32m---> 14\u001b[0m aqi_data:\u001b[38;5;28mstr\u001b[39m \u001b[38;5;241m=\u001b[39m get_aqi_str(aqi_key\u001b[38;5;241m=\u001b[39m\u001b[43mos\u001b[49m\u001b[38;5;241;43m.\u001b[39;49m\u001b[43menviron\u001b[49m\u001b[43m[\u001b[49m\u001b[38;5;124;43m'\u001b[39;49m\u001b[38;5;124;43mAQI_KEY\u001b[39;49m\u001b[38;5;124;43m'\u001b[39;49m\u001b[43m]\u001b[49m)\n",
      "File \u001b[1;32m<frozen os>:679\u001b[0m, in \u001b[0;36m__getitem__\u001b[1;34m(self, key)\u001b[0m\n",
      "\u001b[1;31mKeyError\u001b[0m: 'AQI_KEY'"
     ]
    }
   ],
   "source": [
    "from dotenv import load_dotenv\n",
    "import os\n",
    "import requests\n",
    "load_dotenv()\n",
    "def get_aqi_str(aqi_key:str)->str:\n",
    "    url = f'https://data.moenv.gov.tw/api/v2/aqx_p_488?api_key={aqi_key}&limit=1000&sort=datacreationdate desc&format=JSON'\n",
    "    try:\n",
    "        r = requests.get(url)\n",
    "        r.raise_for_status()\n",
    "    except Exception as e:\n",
    "        print(f\"發生錯誤:{e}\")\n",
    "    return r.text\n",
    "\n",
    "aqi_data:str = get_aqi_str(aqi_key=os.environ['AQI_KEY'])"
   ]
  },
  {
   "cell_type": "code",
   "execution_count": 1,
   "metadata": {},
   "outputs": [
    {
     "ename": "NameError",
     "evalue": "name 'aqi_data' is not defined",
     "output_type": "error",
     "traceback": [
      "\u001b[1;31m---------------------------------------------------------------------------\u001b[0m",
      "\u001b[1;31mNameError\u001b[0m                                 Traceback (most recent call last)",
      "Cell \u001b[1;32mIn[1], line 10\u001b[0m\n\u001b[0;32m      7\u001b[0m     limit: \u001b[38;5;28mint\u001b[39m\n\u001b[0;32m      8\u001b[0m     offset: \u001b[38;5;28mint\u001b[39m\n\u001b[1;32m---> 10\u001b[0m aqi:AQI \u001b[38;5;241m=\u001b[39m AQI\u001b[38;5;241m.\u001b[39mmodel_validate_json(\u001b[43maqi_data\u001b[49m)\n\u001b[0;32m     11\u001b[0m aqi\n",
      "\u001b[1;31mNameError\u001b[0m: name 'aqi_data' is not defined"
     ]
    }
   ],
   "source": [
    "from pydantic import BaseModel\n",
    "class AQI(BaseModel):\n",
    "    resource_id: str\n",
    "    include_total: bool\n",
    "    total: int\n",
    "    resource_format: str\n",
    "    limit: int\n",
    "    offset: int\n",
    "\n",
    "aqi:AQI = AQI.model_validate_json(aqi_data)\n",
    "aqi\n"
   ]
  },
  {
   "cell_type": "code",
   "execution_count": 3,
   "metadata": {},
   "outputs": [
    {
     "ename": "NameError",
     "evalue": "name 'aqi' is not defined",
     "output_type": "error",
     "traceback": [
      "\u001b[1;31m---------------------------------------------------------------------------\u001b[0m",
      "\u001b[1;31mNameError\u001b[0m                                 Traceback (most recent call last)",
      "Cell \u001b[1;32mIn[3], line 3\u001b[0m\n\u001b[0;32m      1\u001b[0m \u001b[38;5;66;03m#Serializing\u001b[39;00m\n\u001b[0;32m      2\u001b[0m \u001b[38;5;66;03m#把pydantic的實體轉換為python的資料結構\u001b[39;00m\n\u001b[1;32m----> 3\u001b[0m \u001b[43maqi\u001b[49m\u001b[38;5;241m.\u001b[39mmodel_dump()\n",
      "\u001b[1;31mNameError\u001b[0m: name 'aqi' is not defined"
     ]
    }
   ],
   "source": [
    "\n",
    "#Serializing\n",
    "#把pydantic的實體轉換為python的資料結構\n",
    "aqi.model_dump()"
   ]
  },
  {
   "cell_type": "code",
   "execution_count": null,
   "metadata": {},
   "outputs": [],
   "source": [
    "\n",
    "#Serializing\n",
    "#把pydantic的實體轉換為json格式的字串\n",
    "\n",
    "aqi.model_dump_json()"
   ]
  }
 ],
 "metadata": {
  "kernelspec": {
   "display_name": "myenv",
   "language": "python",
   "name": "python3"
  },
  "language_info": {
   "codemirror_mode": {
    "name": "ipython",
    "version": 3
   },
   "file_extension": ".py",
   "mimetype": "text/x-python",
   "name": "python",
   "nbconvert_exporter": "python",
   "pygments_lexer": "ipython3",
   "version": "3.11.10"
  }
 },
 "nbformat": 4,
 "nbformat_minor": 2
}
